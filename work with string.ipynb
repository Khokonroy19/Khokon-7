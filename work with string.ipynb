{
 "cells": [
  {
   "cell_type": "code",
   "execution_count": 4,
   "id": "reduced-messenger",
   "metadata": {},
   "outputs": [
    {
     "name": "stdout",
     "output_type": "stream",
     "text": [
      "hello's world\n"
     ]
    }
   ],
   "source": [
    "str='hello\\'s world'\n",
    "print(str)"
   ]
  },
  {
   "cell_type": "code",
   "execution_count": 5,
   "id": "fantastic-tiffany",
   "metadata": {},
   "outputs": [
    {
     "name": "stdout",
     "output_type": "stream",
     "text": [
      "hello's world\n"
     ]
    }
   ],
   "source": [
    "str=\"hello's world\"\n",
    "print(str)"
   ]
  },
  {
   "cell_type": "code",
   "execution_count": 6,
   "id": "obvious-positive",
   "metadata": {},
   "outputs": [
    {
     "name": "stdout",
     "output_type": "stream",
     "text": [
      "<built-in function len>\n"
     ]
    }
   ],
   "source": [
    "len(str)\n",
    "print(len)"
   ]
  },
  {
   "cell_type": "code",
   "execution_count": 7,
   "id": "protective-alpha",
   "metadata": {},
   "outputs": [
    {
     "name": "stdout",
     "output_type": "stream",
     "text": [
      "5\n"
     ]
    }
   ],
   "source": [
    "str='hello'\n",
    "print(len(str))"
   ]
  },
  {
   "cell_type": "code",
   "execution_count": 9,
   "id": "fantastic-excess",
   "metadata": {},
   "outputs": [
    {
     "name": "stdout",
     "output_type": "stream",
     "text": [
      "hello world\n"
     ]
    }
   ],
   "source": [
    "str=\"Hello world\"\n",
    "str.lower()\n",
    "print(str.lower())"
   ]
  },
  {
   "cell_type": "code",
   "execution_count": 10,
   "id": "canadian-isolation",
   "metadata": {},
   "outputs": [
    {
     "name": "stdout",
     "output_type": "stream",
     "text": [
      "HELLO WORLD\n"
     ]
    }
   ],
   "source": [
    "str=\"Hello world\"\n",
    "print(str.upper())"
   ]
  },
  {
   "cell_type": "code",
   "execution_count": 11,
   "id": "familiar-racing",
   "metadata": {},
   "outputs": [
    {
     "name": "stdout",
     "output_type": "stream",
     "text": [
      "3\n"
     ]
    }
   ],
   "source": [
    "str=\"Hello world\"\n",
    "print(str.count(\"l\"))"
   ]
  },
  {
   "cell_type": "code",
   "execution_count": 12,
   "id": "copyrighted-contractor",
   "metadata": {},
   "outputs": [
    {
     "name": "stdout",
     "output_type": "stream",
     "text": [
      "6\n"
     ]
    }
   ],
   "source": [
    "str=\"Hello world\"\n",
    "print(str.find(\"world\"))"
   ]
  },
  {
   "cell_type": "code",
   "execution_count": 13,
   "id": "labeled-phenomenon",
   "metadata": {},
   "outputs": [
    {
     "name": "stdout",
     "output_type": "stream",
     "text": [
      "-1\n"
     ]
    }
   ],
   "source": [
    "str=\"Hello world\"\n",
    "print(str.find(\"Boss\"))"
   ]
  },
  {
   "cell_type": "code",
   "execution_count": 17,
   "id": "distributed-combination",
   "metadata": {},
   "outputs": [
    {
     "name": "stdout",
     "output_type": "stream",
     "text": [
      "Hello world\n"
     ]
    }
   ],
   "source": [
    "str=\"Hello world\"\n",
    "str1=str.replace(\"kl\",\"world\")\n",
    "print(str1)"
   ]
  },
  {
   "cell_type": "code",
   "execution_count": 19,
   "id": "cleared-cheese",
   "metadata": {},
   "outputs": [
    {
     "name": "stdout",
     "output_type": "stream",
     "text": [
      "Hello kl\n"
     ]
    }
   ],
   "source": [
    "str=\"Hello world\"\n",
    "str1=str.replace(\"world\",\"kl\")\n",
    "print(str1)"
   ]
  },
  {
   "cell_type": "code",
   "execution_count": 23,
   "id": "blind-passing",
   "metadata": {},
   "outputs": [
    {
     "name": "stdout",
     "output_type": "stream",
     "text": [
      "hello,sir,welcome!\n"
     ]
    }
   ],
   "source": [
    "str=\"hello\"\n",
    "str1=\"sir\"\n",
    "str2=\"{},{},welcome!\".format(str,str1)\n",
    "print(str2)"
   ]
  },
  {
   "cell_type": "code",
   "execution_count": 25,
   "id": "automotive-bailey",
   "metadata": {},
   "outputs": [
    {
     "name": "stdout",
     "output_type": "stream",
     "text": [
      "hello,SIR,welcome!\n"
     ]
    }
   ],
   "source": [
    "str=\"hello\"\n",
    "str1=\"sir\"\n",
    "str2=f\"{str},{str1.upper()},welcome!\"\n",
    "print(str2)"
   ]
  },
  {
   "cell_type": "code",
   "execution_count": 29,
   "id": "alpha-humor",
   "metadata": {},
   "outputs": [
    {
     "name": "stdout",
     "output_type": "stream",
     "text": [
      "3\n"
     ]
    }
   ],
   "source": [
    "c=0\n",
    "s1=\"IEEE HSTU\"\n",
    "for i in s1:\n",
    "    \n",
    "   if(i=='E'):\n",
    "    c=c+1\n",
    "    \n",
    "    \n",
    "print(c)"
   ]
  },
  {
   "cell_type": "code",
   "execution_count": 30,
   "id": "amino-wheat",
   "metadata": {},
   "outputs": [
    {
     "name": "stdout",
     "output_type": "stream",
     "text": [
      "['IEEE', 'HSTU', 'SB']\n"
     ]
    }
   ],
   "source": [
    "s1=\"IEEE HSTU SB\"\n",
    "s=s1.split()\n",
    "print(s)"
   ]
  },
  {
   "cell_type": "code",
   "execution_count": 31,
   "id": "sublime-letters",
   "metadata": {},
   "outputs": [
    {
     "name": "stdout",
     "output_type": "stream",
     "text": [
      "I E E E H S T U\n"
     ]
    }
   ],
   "source": [
    "s=['I','E','E','E','H','S','T','U']\n",
    "s1=\" \".join(s)\n",
    "print(s1)"
   ]
  },
  {
   "cell_type": "code",
   "execution_count": 39,
   "id": "hispanic-report",
   "metadata": {},
   "outputs": [
    {
     "name": "stdout",
     "output_type": "stream",
     "text": [
      "IEEE  HSTU\n"
     ]
    }
   ],
   "source": [
    "s=['I','E','E','E','H','S','T','U']\n",
    "s1=s[0:4]\n",
    "str=\"\".join(s1)\n",
    "s2=s[4:8]\n",
    "str1=\"\".join(s2)\n",
    "str3=str+\"  \"+str1\n",
    "print(str3)"
   ]
  },
  {
   "cell_type": "code",
   "execution_count": null,
   "id": "marine-malta",
   "metadata": {},
   "outputs": [],
   "source": []
  }
 ],
 "metadata": {
  "kernelspec": {
   "display_name": "Python 3",
   "language": "python",
   "name": "python3"
  },
  "language_info": {
   "codemirror_mode": {
    "name": "ipython",
    "version": 3
   },
   "file_extension": ".py",
   "mimetype": "text/x-python",
   "name": "python",
   "nbconvert_exporter": "python",
   "pygments_lexer": "ipython3",
   "version": "3.9.2"
  }
 },
 "nbformat": 4,
 "nbformat_minor": 5
}
